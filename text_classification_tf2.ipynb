{
 "cells": [
  {
   "cell_type": "markdown",
   "metadata": {},
   "source": [
    "# Text Classification with Tensorflow 2\n",
    "###### Adapted from Rich Folsom's article:\n",
    "###### https://towardsdatascience.com/tensorflow-2-0-data-transformation-for-text-classification-b86ee2ad8877"
   ]
  },
  {
   "cell_type": "code",
   "execution_count": null,
   "metadata": {},
   "outputs": [],
   "source": []
  },
  {
   "cell_type": "code",
   "execution_count": 1,
   "metadata": {},
   "outputs": [],
   "source": [
    "%matplotlib inline\n",
    "import matplotlib.pyplot as plt\n",
    "import seaborn as sns\n",
    "from sklearn.metrics import confusion_matrix\n",
    "import tensorflow as tf\n",
    "import joblib\n",
    "vocabul_size = 8000\n",
    "SEQ_LEN = 256\n",
    "EMBEDDING_DIM = 16\n",
    "BATCH_SIZE = 16\n",
    "EPOCHS = 20"
   ]
  },
  {
   "cell_type": "code",
   "execution_count": 2,
   "metadata": {},
   "outputs": [],
   "source": [
    "%matplotlib inline\n",
    "import numpy as np\n",
    "import pandas as pd\n",
    "import matplotlib.pyplot as plt\n",
    "from sklearn.metrics import confusion_matrix  #Required input to plot_confusion_matrix\n",
    "import seaborn as sns\n",
    "\n",
    "# Inspired by Shay Palachy's function:  https://gist.github.com/shaypal5/94c53d765083101efc0240d776a23823\n",
    "def plot_confusion_matrix(confusion_matrix, class_names, errors_only=False, figsize = (15,6), fontsize=16):\n",
    "    \"\"\"\n",
    "    Plots confusion matrix as a color-encoded Seaborn heatmap.  Zeroes are\n",
    "    colored white.  Normalized values that are zero when rounded to three\n",
    "    decimals, Ex. 0.000, will be colored white.  Get more decicmals by\n",
    "    updating fmt, for example to '0.4f', and updating get_text() value.\n",
    "    \n",
    "    Arguments\n",
    "    ---------\n",
    "    confusion_matrix: numpy.ndarray\n",
    "        The numpy.ndarray object sklearn.metrics.confusion_matrix. \n",
    "    class_names: list\n",
    "        List of class names in the order they index the confusion matrix.\n",
    "    figsize: tuple\n",
    "        A pair tuple.  The first value is figure width.  The second\n",
    "        value is figure height. Defaults to (15,6).\n",
    "    fontsize: int\n",
    "        Font size for axes labels. Defaults to 16.\n",
    "    \"\"\"        \n",
    "    #Instantiate Figure\n",
    "    fig, (ax1, ax2) = plt.subplots(nrows=1, ncols=2, figsize=figsize)\n",
    "    plt.subplots_adjust(wspace = 0.5)\n",
    "    \n",
    "    #Show errors only by filling diagonal with zeroes.\n",
    "    if errors_only:\n",
    "        np.fill_diagonal(confusion_matrix, 0)        \n",
    "        \n",
    "    # ax1 - Normalized Confusion Matrix    \n",
    "    #Normalize by dividing (M X M) matrix by (M X 1) matrix.  (M X 1) is row totals.\n",
    "    conf_matrix_norm = confusion_matrix.astype('float') / confusion_matrix.sum(axis=1)[:,np.newaxis]\n",
    "    conf_matrix_norm = np.nan_to_num(conf_matrix_norm)  #fix any nans caused by zero row total\n",
    "    df_cm_norm = pd.DataFrame(conf_matrix_norm, index=class_names, columns=class_names)\n",
    "    heatmap = sns.heatmap(df_cm_norm, ax=ax1, cmap='Blues', fmt='.3f', annot=True, annot_kws={\"size\": fontsize},\n",
    "              linewidths=2, linecolor='black', cbar=False)\n",
    "    \n",
    "    ax1.tick_params(axis='x', labelrotation=0, labelsize=fontsize, labelcolor='black')\n",
    "    ax1.tick_params(axis='y', labelrotation=0, labelsize=fontsize, labelcolor='black')\n",
    "    ax1.set_ylim(ax1.get_xlim()[0], ax1.get_xlim()[1])  #Fix messed up ylim\n",
    "    ax1.set_xlabel('PREDICTED CLASS', fontsize=fontsize, color='black')\n",
    "    ax1.set_ylabel('TRUE CLASS', fontsize=fontsize, color='black')\n",
    "    ax1.set_title('Confusion Matrix - Normalized', pad=15, fontsize=fontsize, color='black')\n",
    "    \n",
    "    # ax2 - Confusion Matrix - Class Counts\n",
    "    df_cm = pd.DataFrame(confusion_matrix, index=class_names, columns=class_names)    \n",
    "    heatmap = sns.heatmap(df_cm, ax=ax2, cmap='Blues', fmt='d', annot=True, annot_kws={\"size\": fontsize},\n",
    "              linewidths=2, linecolor='black', cbar=False)   \n",
    "    \n",
    "    ax2.tick_params(axis='x', labelrotation=0, labelsize=fontsize, labelcolor='black')\n",
    "    ax2.tick_params(axis='y', labelrotation=0, labelsize=fontsize, labelcolor='black')\n",
    "    ax2.set_ylim(ax1.get_xlim()[0], ax1.get_xlim()[1])  #Fix bug in matplotlib 3.1.1.  Or, use earlier matplotlib.\n",
    "    ax2.set_xlabel('PREDICTED CLASS', fontsize=fontsize, color='black')\n",
    "    ax2.set_ylabel('TRUE CLASS', fontsize=fontsize, color='black')\n",
    "    ax2.set_title('Confusion Matrix - Class Counts', pad=15, fontsize=fontsize, color='black')    \n",
    "  \n",
    "    for text in ax1.texts:\n",
    "        if text.get_text() == '0.000':\n",
    "            text.set_color(color='white')            \n",
    "    for text in ax2.texts:\n",
    "        if text.get_text() == '0':\n",
    "            text.set_color(color='white')"
   ]
  },
  {
   "cell_type": "code",
   "execution_count": null,
   "metadata": {},
   "outputs": [],
   "source": []
  },
  {
   "cell_type": "code",
   "execution_count": 3,
   "metadata": {},
   "outputs": [],
   "source": [
    "import pandas as pd\n",
    "import os\n",
    "\n",
    "def build_df(start_path):\n",
    "    '''\n",
    "    Append all files in the target folder.  Then return as dataframe.\n",
    "    '''\n",
    "\n",
    "    df = pd.DataFrame(columns=['review', 'sentim'])\n",
    "    review = []\n",
    "    sentim = []\n",
    "    \n",
    "    for folder in ['neg','pos']:\n",
    "        fpath=os.path.join(start_path, folder)\n",
    "        files = [f for f in os.listdir(fpath)]\n",
    "        \n",
    "        for f in files:\n",
    "            with open(os.path.join(fpath, f), \"r\", encoding='utf8') as myfile:\n",
    "                # replace linefeed (\\n) and carriage return (\\r) with space\n",
    "                review.append(myfile.read().replace(\"\\n\", \" \").replace(\"\\r\", \" \"))\n",
    "                # convert positive reviews to 1 and negative reviews to zero\n",
    "                sentim.append(1 if folder == 'pos' else 0)\n",
    "\n",
    "    df['review']=review\n",
    "    df['sentim']=sentim\n",
    "    #This line shuffles the data so you don't end with contiguous\n",
    "    #blocks of positive and negative reviews\n",
    "    df = df.sample(frac=1).reset_index(drop=True)      \n",
    "    return df\n",
    "\n",
    "#double backslash for Windows\n",
    "train_df = build_df('aclImdb\\\\train')\n",
    "test_df = build_df(\"aclImdb\\\\test\")"
   ]
  },
  {
   "cell_type": "code",
   "execution_count": null,
   "metadata": {},
   "outputs": [],
   "source": []
  },
  {
   "cell_type": "code",
   "execution_count": 5,
   "metadata": {},
   "outputs": [],
   "source": [
    "#create tokenizer for our data\n",
    "tokenizer = tf.keras.preprocessing.text.Tokenizer(num_words=vocabul_size, oov_token='<UNK>')\n",
    "tokenizer.fit_on_texts(train_df['review'])"
   ]
  },
  {
   "cell_type": "code",
   "execution_count": 6,
   "metadata": {},
   "outputs": [
    {
     "name": "stdout",
     "output_type": "stream",
     "text": [
      "length of word index dictionary: 88581\n"
     ]
    }
   ],
   "source": [
    "print(\"length of word index dictionary:\", len(tokenizer.word_index))"
   ]
  },
  {
   "cell_type": "code",
   "execution_count": 7,
   "metadata": {},
   "outputs": [],
   "source": [
    "#tokenizer.word_index"
   ]
  },
  {
   "cell_type": "code",
   "execution_count": 8,
   "metadata": {},
   "outputs": [],
   "source": [
    "#convert text data to sequence of integers\n",
    "train_seqs=tokenizer.texts_to_sequences(train_df['review'])\n",
    "test_seqs=tokenizer.texts_to_sequences(test_df['review'])"
   ]
  },
  {
   "cell_type": "code",
   "execution_count": 9,
   "metadata": {},
   "outputs": [],
   "source": [
    "#Use exactly 256 words per review by padding or truncating.\n",
    "train_seqs=tf.keras.preprocessing.sequence.pad_sequences(train_seqs, maxlen=SEQ_LEN, padding=\"post\")\n",
    "test_seqs=tf.keras.preprocessing.sequence.pad_sequences(test_seqs, maxlen=SEQ_LEN, padding=\"post\")"
   ]
  },
  {
   "cell_type": "code",
   "execution_count": 10,
   "metadata": {},
   "outputs": [
    {
     "name": "stdout",
     "output_type": "stream",
     "text": [
      "train_seqs: (25000, 256)\n",
      "test_seqs: (25000, 256)\n"
     ]
    }
   ],
   "source": [
    "print('train_seqs:', train_seqs.shape)\n",
    "print('test_seqs:', test_seqs.shape)"
   ]
  },
  {
   "cell_type": "code",
   "execution_count": 12,
   "metadata": {},
   "outputs": [
    {
     "name": "stdout",
     "output_type": "stream",
     "text": [
      "Model: \"sequential_1\"\n",
      "_________________________________________________________________\n",
      "Layer (type)                 Output Shape              Param #   \n",
      "=================================================================\n",
      "embedding_1 (Embedding)      (None, None, 16)          128000    \n",
      "_________________________________________________________________\n",
      "global_average_pooling1d_1 ( (None, 16)                0         \n",
      "_________________________________________________________________\n",
      "dense_1 (Dense)              (None, 1)                 17        \n",
      "=================================================================\n",
      "Total params: 128,017\n",
      "Trainable params: 128,017\n",
      "Non-trainable params: 0\n",
      "_________________________________________________________________\n",
      "Train on 20000 samples, validate on 5000 samples\n",
      "Epoch 1/20\n",
      "20000/20000 [==============================] - 6s 277us/sample - loss: 0.6198 - accuracy: 0.7349 - val_loss: 0.5099 - val_accuracy: 0.8226\n",
      "Epoch 2/20\n",
      "20000/20000 [==============================] - 5s 248us/sample - loss: 0.4250 - accuracy: 0.8508 - val_loss: 0.3771 - val_accuracy: 0.8642\n",
      "Epoch 3/20\n",
      "20000/20000 [==============================] - 5s 247us/sample - loss: 0.3266 - accuracy: 0.8806 - val_loss: 0.3260 - val_accuracy: 0.8774\n",
      "Epoch 4/20\n",
      "20000/20000 [==============================] - 5s 243us/sample - loss: 0.2782 - accuracy: 0.8982 - val_loss: 0.3011 - val_accuracy: 0.8810\n",
      "Epoch 5/20\n",
      "20000/20000 [==============================] - 5s 246us/sample - loss: 0.2471 - accuracy: 0.9084 - val_loss: 0.2880 - val_accuracy: 0.8834\n",
      "Epoch 6/20\n",
      "20000/20000 [==============================] - 5s 246us/sample - loss: 0.2235 - accuracy: 0.9173 - val_loss: 0.2816 - val_accuracy: 0.8896\n",
      "Epoch 7/20\n",
      "20000/20000 [==============================] - 5s 244us/sample - loss: 0.2045 - accuracy: 0.9250 - val_loss: 0.2801 - val_accuracy: 0.8896\n"
     ]
    }
   ],
   "source": [
    "#Fit TensorFlow 2 model\n",
    "\n",
    "#Embedding: The vocabul_size is the input_dim. EMBEDDING_DIM is the embedding dimensions.\n",
    "model = tf.keras.Sequential([\n",
    "  tf.keras.layers.Embedding(vocabul_size, EMBEDDING_DIM),\n",
    "  tf.keras.layers.GlobalAveragePooling1D(),\n",
    "  tf.keras.layers.Dense(1, activation='sigmoid')])\n",
    "\n",
    "model.summary()\n",
    "\n",
    "model.compile(optimizer='adam',\n",
    "              loss='binary_crossentropy',\n",
    "              metrics=['accuracy'])\n",
    "\n",
    "\n",
    "es = tf.keras.callbacks.EarlyStopping(monitor='val_accuracy', mode='max')\n",
    "callbacks=[es]\n",
    "history = model.fit(train_seqs, train_df['sentim'].values\n",
    "                    , batch_size=BATCH_SIZE\n",
    "                    , epochs=EPOCHS\n",
    "                    , validation_split=0.2\n",
    "                    , callbacks=callbacks)"
   ]
  },
  {
   "cell_type": "code",
   "execution_count": 13,
   "metadata": {},
   "outputs": [
    {
     "name": "stdout",
     "output_type": "stream",
     "text": [
      "25000/25000 [==============================] - 2s 69us/sample - loss: 0.2850 - accuracy: 0.8822\n"
     ]
    },
    {
     "data": {
      "text/plain": [
       "[0.28496613451957703, 0.88224]"
      ]
     },
     "execution_count": 13,
     "metadata": {},
     "output_type": "execute_result"
    }
   ],
   "source": [
    "#Evaluate model on test data\n",
    "model.evaluate(test_seqs, test_df['sentim'].values)"
   ]
  },
  {
   "cell_type": "code",
   "execution_count": 14,
   "metadata": {
    "scrolled": true
   },
   "outputs": [
    {
     "data": {
      "image/png": "[encoded data removed]",
      "text/plain": [
       "<Figure size 1080x432 with 2 Axes>"
      ]
     },
     "metadata": {
      "needs_background": "light"
     },
     "output_type": "display_data"
    }
   ],
   "source": [
    "#Get prediction in probability format.  Convert to binary.\n",
    "test_preds = model.predict(test_seqs)\n",
    "test_pred_ints = [int(i>0.5) for i in test_preds]\n",
    "\n",
    "#Compute confusion matrix: confusion_matrix(y_true, y_pred)\n",
    "class_labels = [0,1]\n",
    "cm=confusion_matrix(test_df['sentim'].values, test_pred_ints, labels=class_labels)\n",
    "plot_confusion_matrix(confusion_matrix=cm, class_names=class_labels, fontsize=22)"
   ]
  },
  {
   "cell_type": "code",
   "execution_count": 15,
   "metadata": {},
   "outputs": [],
   "source": [
    "#Save model and tokenizer.  Delete model and tokenizer.\n",
    "model.save('model.h5')\n",
    "joblib.dump(tokenizer, 'tokenizer.joblib', compress=1)\n",
    "\n",
    "del model\n",
    "del tokenizer"
   ]
  },
  {
   "cell_type": "code",
   "execution_count": null,
   "metadata": {},
   "outputs": [],
   "source": []
  },
  {
   "cell_type": "code",
   "execution_count": null,
   "metadata": {},
   "outputs": [],
   "source": []
  },
  {
   "cell_type": "code",
   "execution_count": null,
   "metadata": {},
   "outputs": [],
   "source": []
  },
  {
   "cell_type": "code",
   "execution_count": null,
   "metadata": {},
   "outputs": [],
   "source": []
  },
  {
   "cell_type": "code",
   "execution_count": null,
   "metadata": {},
   "outputs": [],
   "source": []
  },
  {
   "cell_type": "code",
   "execution_count": null,
   "metadata": {},
   "outputs": [],
   "source": []
  },
  {
   "cell_type": "code",
   "execution_count": null,
   "metadata": {},
   "outputs": [],
   "source": []
  }
 ],
 "metadata": {
  "kernelspec": {
   "display_name": "Python 3",
   "language": "python",
   "name": "python3"
  },
  "language_info": {
   "codemirror_mode": {
    "name": "ipython",
    "version": 3
   },
   "file_extension": ".py",
   "mimetype": "text/x-python",
   "name": "python",
   "nbconvert_exporter": "python",
   "pygments_lexer": "ipython3",
   "version": "3.7.7"
  }
 },
 "nbformat": 4,
 "nbformat_minor": 4
}
