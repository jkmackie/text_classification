{
 "cells": [
  {
   "cell_type": "markdown",
   "metadata": {},
   "source": [
    "# Text Classification with Tensorflow 2\n",
    "#### `Adapted from Rich Folsom article:`\n",
    "https://towardsdatascience.com/tensorflow-2-0-data-transformation-for-text-classification-b86ee2ad8877\n"
   ]
  },
  {
   "cell_type": "code",
   "execution_count": 1,
   "metadata": {},
   "outputs": [],
   "source": [
    "%matplotlib inline\n",
    "import matplotlib.pyplot as plt\n",
    "import seaborn as sns\n",
    "from sklearn.metrics import confusion_matrix\n",
    "import tensorflow as tf\n",
    "import joblib\n",
    "import pandas as pd\n",
    "import os"
   ]
  },
  {
   "cell_type": "code",
   "execution_count": 2,
   "metadata": {},
   "outputs": [],
   "source": [
    "#Global variables\n",
    "vocabul_size = 8000\n",
    "SEQ_LEN = 256\n",
    "EMBEDDING_DIM = 16\n",
    "BATCH_SIZE = 16\n",
    "EPOCHS = 20"
   ]
  },
  {
   "cell_type": "code",
   "execution_count": 3,
   "metadata": {},
   "outputs": [],
   "source": [
    "%matplotlib inline\n",
    "import numpy as np\n",
    "import pandas as pd\n",
    "import matplotlib.pyplot as plt\n",
    "from sklearn.metrics import confusion_matrix  #Required input to plot_confusion_matrix\n",
    "import seaborn as sns\n",
    "\n",
    "# Inspired by Shay Palachy's function:  https://gist.github.com/shaypal5/94c53d765083101efc0240d776a23823\n",
    "def plot_confusion_matrix(confusion_matrix, class_names, errors_only=False, figsize = (15,6), fontsize=16):\n",
    "    \"\"\"\n",
    "    Plots confusion matrix as a color-encoded Seaborn heatmap.  Zeroes are\n",
    "    colored white.  Normalized values that are zero when rounded to three\n",
    "    decimals, Ex. 0.000, will be colored white.  Get more decicmals by\n",
    "    updating fmt, for example to '0.4f', and updating get_text() value.\n",
    "    \n",
    "    Arguments\n",
    "    ---------\n",
    "    confusion_matrix: numpy.ndarray\n",
    "        The numpy.ndarray object sklearn.metrics.confusion_matrix. \n",
    "    class_names: list\n",
    "        List of class names in the order they index the confusion matrix.\n",
    "    figsize: tuple\n",
    "        A pair tuple.  The first value is figure width.  The second\n",
    "        value is figure height. Defaults to (15,6).\n",
    "    fontsize: int\n",
    "        Font size for axes labels. Defaults to 16.\n",
    "    \"\"\"        \n",
    "    #Instantiate Figure\n",
    "    fig, (ax1, ax2) = plt.subplots(nrows=1, ncols=2, figsize=figsize)\n",
    "    plt.subplots_adjust(wspace = 0.5)\n",
    "    \n",
    "    #Show errors only by filling diagonal with zeroes.\n",
    "    if errors_only:\n",
    "        np.fill_diagonal(confusion_matrix, 0)        \n",
    "        \n",
    "    # ax1 - Normalized Confusion Matrix    \n",
    "    #Normalize by dividing (M X M) matrix by (M X 1) matrix.  (M X 1) is row totals.\n",
    "    conf_matrix_norm = confusion_matrix.astype('float') / confusion_matrix.sum(axis=1)[:,np.newaxis]\n",
    "    conf_matrix_norm = np.nan_to_num(conf_matrix_norm)  #fix any nans caused by zero row total\n",
    "    df_cm_norm = pd.DataFrame(conf_matrix_norm, index=class_names, columns=class_names)\n",
    "    heatmap = sns.heatmap(df_cm_norm, ax=ax1, cmap='Blues', fmt='.3f', annot=True, annot_kws={\"size\": fontsize},\n",
    "              linewidths=2, linecolor='black', cbar=False)\n",
    "    \n",
    "    ax1.tick_params(axis='x', labelrotation=0, labelsize=fontsize, labelcolor='black')\n",
    "    ax1.tick_params(axis='y', labelrotation=0, labelsize=fontsize, labelcolor='black')\n",
    "    ax1.set_ylim(ax1.get_xlim()[0], ax1.get_xlim()[1])  #Fix messed up ylim\n",
    "    ax1.set_xlabel('PREDICTED CLASS', fontsize=fontsize, color='black')\n",
    "    ax1.set_ylabel('TRUE CLASS', fontsize=fontsize, color='black')\n",
    "    ax1.set_title('Confusion Matrix - Normalized', pad=15, fontsize=fontsize, color='black')\n",
    "    \n",
    "    # ax2 - Confusion Matrix - Class Counts\n",
    "    df_cm = pd.DataFrame(confusion_matrix, index=class_names, columns=class_names)    \n",
    "    heatmap = sns.heatmap(df_cm, ax=ax2, cmap='Blues', fmt='d', annot=True, annot_kws={\"size\": fontsize},\n",
    "              linewidths=2, linecolor='black', cbar=False)   \n",
    "    \n",
    "    ax2.tick_params(axis='x', labelrotation=0, labelsize=fontsize, labelcolor='black')\n",
    "    ax2.tick_params(axis='y', labelrotation=0, labelsize=fontsize, labelcolor='black')\n",
    "    ax2.set_ylim(ax1.get_xlim()[0], ax1.get_xlim()[1])  #Fix bug in matplotlib 3.1.1.  Or, use earlier matplotlib.\n",
    "    ax2.set_xlabel('PREDICTED CLASS', fontsize=fontsize, color='black')\n",
    "    ax2.set_ylabel('TRUE CLASS', fontsize=fontsize, color='black')\n",
    "    ax2.set_title('Confusion Matrix - Class Counts', pad=15, fontsize=fontsize, color='black')    \n",
    "  \n",
    "    for text in ax1.texts:\n",
    "        if text.get_text() == '0.000':\n",
    "            text.set_color(color='white')            \n",
    "    for text in ax2.texts:\n",
    "        if text.get_text() == '0':\n",
    "            text.set_color(color='white')"
   ]
  },
  {
   "cell_type": "code",
   "execution_count": 4,
   "metadata": {},
   "outputs": [
    {
     "data": {
      "text/plain": [
       "'C:\\\\Users\\\\Justin\\\\DATA_SCIENCE\\\\text_classification'"
      ]
     },
     "execution_count": 4,
     "metadata": {},
     "output_type": "execute_result"
    }
   ],
   "source": [
    "os.getcwd()"
   ]
  },
  {
   "cell_type": "code",
   "execution_count": 5,
   "metadata": {},
   "outputs": [],
   "source": [
    "def build_df(start_path):\n",
    "    '''\n",
    "    Append all files in the target folder.  Then return as dataframe.\n",
    "    '''\n",
    "\n",
    "    df = pd.DataFrame(columns=['review', 'sentim'])\n",
    "    review = []\n",
    "    sentim = []\n",
    "    \n",
    "    for folder in ['neg','pos']:\n",
    "        fpath=os.path.join(start_path, folder)\n",
    "        files = [f for f in os.listdir(fpath)]\n",
    "        \n",
    "        for f in files:\n",
    "            with open(os.path.join(fpath, f), \"r\", encoding='utf8') as myfile:\n",
    "                # replace linefeed (\\n) and carriage return (\\r) with space\n",
    "                review.append(myfile.read().replace(\"\\n\", \" \").replace(\"\\r\", \" \"))\n",
    "                # convert positive reviews to 1 and negative reviews to zero\n",
    "                sentim.append(1 if folder == 'pos' else 0)\n",
    "\n",
    "    df['review']=review\n",
    "    df['sentim']=sentim\n",
    "    #This line shuffles the data so you don't end with contiguous\n",
    "    #blocks of positive and negative reviews\n",
    "    df = df.sample(frac=1).reset_index(drop=True)      \n",
    "    return df\n",
    "\n",
    "#double backslash for Windows\n",
    "train_df = build_df('aclImdb\\\\train')\n",
    "test_df = build_df('aclImdb\\\\test')"
   ]
  },
  {
   "cell_type": "code",
   "execution_count": null,
   "metadata": {},
   "outputs": [],
   "source": []
  },
  {
   "cell_type": "code",
   "execution_count": 6,
   "metadata": {},
   "outputs": [],
   "source": [
    "#create tokenizer for our data\n",
    "tokenizer = tf.keras.preprocessing.text.Tokenizer(num_words=vocabul_size, oov_token='<UNK>')\n",
    "tokenizer.fit_on_texts(train_df['review'])"
   ]
  },
  {
   "cell_type": "code",
   "execution_count": 7,
   "metadata": {},
   "outputs": [
    {
     "name": "stdout",
     "output_type": "stream",
     "text": [
      "length of word index dictionary: 88581\n"
     ]
    }
   ],
   "source": [
    "print(\"length of word index dictionary:\", len(tokenizer.word_index))"
   ]
  },
  {
   "cell_type": "code",
   "execution_count": 8,
   "metadata": {},
   "outputs": [],
   "source": [
    "#tokenizer.word_index"
   ]
  },
  {
   "cell_type": "code",
   "execution_count": 9,
   "metadata": {},
   "outputs": [
    {
     "data": {
      "text/plain": [
       "(25000, 2)"
      ]
     },
     "execution_count": 9,
     "metadata": {},
     "output_type": "execute_result"
    }
   ],
   "source": [
    "train_df.shape"
   ]
  },
  {
   "cell_type": "code",
   "execution_count": 10,
   "metadata": {},
   "outputs": [
    {
     "data": {
      "text/html": [
       "<div>\n",
       "<style scoped>\n",
       "    .dataframe tbody tr th:only-of-type {\n",
       "        vertical-align: middle;\n",
       "    }\n",
       "\n",
       "    .dataframe tbody tr th {\n",
       "        vertical-align: top;\n",
       "    }\n",
       "\n",
       "    .dataframe thead th {\n",
       "        text-align: right;\n",
       "    }\n",
       "</style>\n",
       "<table border=\"1\" class=\"dataframe\">\n",
       "  <thead>\n",
       "    <tr style=\"text-align: right;\">\n",
       "      <th></th>\n",
       "      <th>review</th>\n",
       "      <th>sentim</th>\n",
       "    </tr>\n",
       "  </thead>\n",
       "  <tbody>\n",
       "    <tr>\n",
       "      <th>0</th>\n",
       "      <td>I am an avid fan of violent exploitation cinem...</td>\n",
       "      <td>0</td>\n",
       "    </tr>\n",
       "    <tr>\n",
       "      <th>1</th>\n",
       "      <td>Billy Crystal co-wrote, co-produced and stars ...</td>\n",
       "      <td>0</td>\n",
       "    </tr>\n",
       "    <tr>\n",
       "      <th>2</th>\n",
       "      <td>This movie was the worst i've ever seen.&lt;br /&gt;...</td>\n",
       "      <td>0</td>\n",
       "    </tr>\n",
       "    <tr>\n",
       "      <th>3</th>\n",
       "      <td>I am not so much like Love Sick as I image. Fi...</td>\n",
       "      <td>0</td>\n",
       "    </tr>\n",
       "    <tr>\n",
       "      <th>4</th>\n",
       "      <td>Imagine that in adapting a James Bond novel in...</td>\n",
       "      <td>0</td>\n",
       "    </tr>\n",
       "  </tbody>\n",
       "</table>\n",
       "</div>"
      ],
      "text/plain": [
       "                                              review  sentim\n",
       "0  I am an avid fan of violent exploitation cinem...       0\n",
       "1  Billy Crystal co-wrote, co-produced and stars ...       0\n",
       "2  This movie was the worst i've ever seen.<br />...       0\n",
       "3  I am not so much like Love Sick as I image. Fi...       0\n",
       "4  Imagine that in adapting a James Bond novel in...       0"
      ]
     },
     "execution_count": 10,
     "metadata": {},
     "output_type": "execute_result"
    }
   ],
   "source": [
    "train_df.head()"
   ]
  },
  {
   "cell_type": "code",
   "execution_count": 11,
   "metadata": {},
   "outputs": [
    {
     "name": "stdout",
     "output_type": "stream",
     "text": [
      "review texts are now integer sequences.\n",
      "train_seqs: [11, 242, 33, 7365, 335] etc\n",
      "test_seqs: [11, 90, 104, 53, 109] etc\n"
     ]
    }
   ],
   "source": [
    "#convert review texts to various length integer sequences.\n",
    "train_seqs=tokenizer.texts_to_sequences(train_df['review'])\n",
    "test_seqs=tokenizer.texts_to_sequences(test_df['review'])\n",
    "print('review texts are now integer sequences.')\n",
    "\n",
    "print('train_seqs:', train_seqs[0][0:5], 'etc')\n",
    "print('test_seqs:', test_seqs[0][0:5], 'etc')"
   ]
  },
  {
   "cell_type": "code",
   "execution_count": 12,
   "metadata": {},
   "outputs": [],
   "source": [
    "#Adjust sequence lengths to 256 by padding or truncating.\n",
    "train_seqs=tf.keras.preprocessing.sequence.pad_sequences(train_seqs, maxlen=SEQ_LEN, padding=\"post\")\n",
    "test_seqs=tf.keras.preprocessing.sequence.pad_sequences(test_seqs, maxlen=SEQ_LEN, padding=\"post\")"
   ]
  },
  {
   "cell_type": "code",
   "execution_count": 13,
   "metadata": {},
   "outputs": [
    {
     "data": {
      "text/plain": [
       "array([[ 136,    2,  190, ..., 2438,    5,  593],\n",
       "       [1510, 5231,  999, ...,    0,    0,    0],\n",
       "       [  12,   18,   14, ...,    0,    0,    0],\n",
       "       [   1,   14,    9, ...,    1,    3, 4382],\n",
       "       [ 180,  443,   82, ...,  308,    5,  408]])"
      ]
     },
     "execution_count": 13,
     "metadata": {},
     "output_type": "execute_result"
    }
   ],
   "source": [
    "train_seqs[0:5]"
   ]
  },
  {
   "cell_type": "code",
   "execution_count": 14,
   "metadata": {},
   "outputs": [
    {
     "name": "stdout",
     "output_type": "stream",
     "text": [
      "train_seqs: (25000, 256)\n",
      "test_seqs: (25000, 256)\n"
     ]
    }
   ],
   "source": [
    "print('train_seqs:', train_seqs.shape)\n",
    "print('test_seqs:', test_seqs.shape)"
   ]
  },
  {
   "cell_type": "code",
   "execution_count": 15,
   "metadata": {},
   "outputs": [
    {
     "name": "stdout",
     "output_type": "stream",
     "text": [
      "Model: \"sequential\"\n",
      "_________________________________________________________________\n",
      "Layer (type)                 Output Shape              Param #   \n",
      "=================================================================\n",
      "embedding (Embedding)        (None, None, 16)          128000    \n",
      "_________________________________________________________________\n",
      "global_average_pooling1d (Gl (None, 16)                0         \n",
      "_________________________________________________________________\n",
      "dense (Dense)                (None, 1)                 17        \n",
      "=================================================================\n",
      "Total params: 128,017\n",
      "Trainable params: 128,017\n",
      "Non-trainable params: 0\n",
      "_________________________________________________________________\n",
      "Train on 20000 samples, validate on 5000 samples\n",
      "Epoch 1/20\n",
      "20000/20000 [==============================] - 6s 287us/sample - loss: 0.6147 - accuracy: 0.7480 - val_loss: 0.5061 - val_accuracy: 0.8196\n",
      "Epoch 2/20\n",
      "20000/20000 [==============================] - 5s 250us/sample - loss: 0.4218 - accuracy: 0.8512 - val_loss: 0.3697 - val_accuracy: 0.8692\n",
      "Epoch 3/20\n",
      "20000/20000 [==============================] - 5s 245us/sample - loss: 0.3259 - accuracy: 0.8810 - val_loss: 0.3171 - val_accuracy: 0.8844\n",
      "Epoch 4/20\n",
      "20000/20000 [==============================] - 4s 222us/sample - loss: 0.2781 - accuracy: 0.8962 - val_loss: 0.2934 - val_accuracy: 0.8872\n",
      "Epoch 5/20\n",
      "20000/20000 [==============================] - 4s 223us/sample - loss: 0.2464 - accuracy: 0.9082 - val_loss: 0.2815 - val_accuracy: 0.8906\n",
      "Epoch 6/20\n",
      "20000/20000 [==============================] - 5s 229us/sample - loss: 0.2229 - accuracy: 0.9172 - val_loss: 0.2789 - val_accuracy: 0.8886\n"
     ]
    }
   ],
   "source": [
    "#Fit TensorFlow 2 model\n",
    "\n",
    "#Embedding: The vocabul_size is the input_dim. EMBEDDING_DIM is the embedding dimensions.\n",
    "model = tf.keras.Sequential([\n",
    "  tf.keras.layers.Embedding(vocabul_size, EMBEDDING_DIM),\n",
    "  tf.keras.layers.GlobalAveragePooling1D(),\n",
    "  tf.keras.layers.Dense(1, activation='sigmoid')])\n",
    "\n",
    "model.summary()\n",
    "\n",
    "model.compile(optimizer='adam',\n",
    "              loss='binary_crossentropy',\n",
    "              metrics=['accuracy'])\n",
    "\n",
    "\n",
    "es = tf.keras.callbacks.EarlyStopping(monitor='val_accuracy', mode='max')\n",
    "callbacks=[es]\n",
    "\n",
    "#Train model\n",
    "history = model.fit(train_seqs, train_df['sentim'].values\n",
    "                    , batch_size=BATCH_SIZE\n",
    "                    , epochs=EPOCHS\n",
    "                    , validation_split=0.2\n",
    "                    , callbacks=callbacks)"
   ]
  },
  {
   "cell_type": "code",
   "execution_count": 16,
   "metadata": {},
   "outputs": [
    {
     "name": "stdout",
     "output_type": "stream",
     "text": [
      "25000/25000 [==============================] - 2s 68us/sample - loss: 0.2878 - accuracy: 0.8801\n"
     ]
    },
    {
     "data": {
      "text/plain": [
       "[0.2877501408481598, 0.88012]"
      ]
     },
     "execution_count": 16,
     "metadata": {},
     "output_type": "execute_result"
    }
   ],
   "source": [
    "#Evaluate model accuracy on test data\n",
    "model.evaluate(test_seqs, test_df['sentim'].values)"
   ]
  },
  {
   "cell_type": "code",
   "execution_count": 17,
   "metadata": {},
   "outputs": [
    {
     "name": "stdout",
     "output_type": "stream",
     "text": [
      "sklearn accuracy: 0.88012\n"
     ]
    }
   ],
   "source": [
    "#Get prediction in probability format.  Convert to binary.\n",
    "test_preds = model.predict(test_seqs)\n",
    "test_pred_ints = [int(i>0.5) for i in test_preds]\n",
    "\n",
    "#Alternative technique - Evaluate model accuracy on test data\n",
    "from sklearn.metrics import accuracy_score\n",
    "print('sklearn accuracy:', accuracy_score(test_df['sentim'].values, test_pred_ints))"
   ]
  },
  {
   "cell_type": "code",
   "execution_count": 18,
   "metadata": {
    "scrolled": true
   },
   "outputs": [
    {
     "data": {
      "image/png": "[encoded data removed]",
      "text/plain": [
       "<Figure size 1080x432 with 2 Axes>"
      ]
     },
     "metadata": {
      "needs_background": "light"
     },
     "output_type": "display_data"
    }
   ],
   "source": [
    "#Compute confusion matrix: confusion_matrix(y_true, y_pred)\n",
    "class_labels = [0,1]\n",
    "cm=confusion_matrix(test_df['sentim'].values, test_pred_ints, labels=class_labels)\n",
    "plot_confusion_matrix(confusion_matrix=cm, class_names=class_labels, fontsize=22)"
   ]
  },
  {
   "cell_type": "code",
   "execution_count": 19,
   "metadata": {},
   "outputs": [],
   "source": [
    "#Save model and tokenizer.  Then delete model and tokenizer.\n",
    "model.save('model.h5')\n",
    "joblib.dump(tokenizer, 'tokenizer.joblib', compress=1)\n",
    "del model\n",
    "del tokenizer"
   ]
  },
  {
   "cell_type": "code",
   "execution_count": 20,
   "metadata": {},
   "outputs": [],
   "source": [
    "#Load model and tokenizer.\n",
    "model = tf.keras.models.load_model('model.h5')\n",
    "tokenizer = joblib.load('tokenizer.joblib')"
   ]
  },
  {
   "cell_type": "code",
   "execution_count": 21,
   "metadata": {},
   "outputs": [
    {
     "data": {
      "text/plain": [
       "[1, 0, 1, 1]"
      ]
     },
     "execution_count": 21,
     "metadata": {},
     "output_type": "execute_result"
    }
   ],
   "source": [
    "#Make new predictions.  \n",
    "#Prediction will be 1 - Positive or 0 - Negative.\n",
    "\n",
    "def prepare_predict_data(reviews, tokenizer):\n",
    "    seqs = tokenizer.texts_to_sequences(reviews)\n",
    "    #Use exactly SEQ_LEN words per review by pad or truncate.\n",
    "    seqs = tf.keras.preprocessing.sequence.pad_sequences(seqs, maxlen=SEQ_LEN, padding=\"post\")\n",
    "    return seqs\n",
    "\n",
    "my_reviews=['this movie was awesome',\n",
    "           'this movie was the worst movie ive ever seen',\n",
    "           'i hated everything about this movie',\n",
    "           'this is my favorite movie of the year']\n",
    "my_seqs = prepare_predict_data(my_reviews, tokenizer)\n",
    "\n",
    "new_preds= model.predict(my_seqs)\n",
    "new_preds_int = [int(i>0.5) for i in new_preds]\n",
    "new_preds_int"
   ]
  },
  {
   "cell_type": "code",
   "execution_count": null,
   "metadata": {},
   "outputs": [],
   "source": []
  },
  {
   "cell_type": "code",
   "execution_count": null,
   "metadata": {},
   "outputs": [],
   "source": []
  },
  {
   "cell_type": "code",
   "execution_count": null,
   "metadata": {},
   "outputs": [],
   "source": []
  },
  {
   "cell_type": "code",
   "execution_count": null,
   "metadata": {},
   "outputs": [],
   "source": []
  }
 ],
 "metadata": {
  "kernelspec": {
   "display_name": "Python 3",
   "language": "python",
   "name": "python3"
  },
  "language_info": {
   "codemirror_mode": {
    "name": "ipython",
    "version": 3
   },
   "file_extension": ".py",
   "mimetype": "text/x-python",
   "name": "python",
   "nbconvert_exporter": "python",
   "pygments_lexer": "ipython3",
   "version": "3.7.7"
  }
 },
 "nbformat": 4,
 "nbformat_minor": 4
}
